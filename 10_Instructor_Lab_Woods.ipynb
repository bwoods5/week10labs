{
 "cells": [
  {
   "cell_type": "markdown",
   "metadata": {},
   "source": [
    "# Week 10 Instructor Led Lab: Data Reduction\n",
    "\n",
    "**Author**: Brady Woods  \n",
    "**Course**: BGEN632 Grad. Intro. to Python  \n",
    "**Term**: Spring 2025  \n",
    "**Date**: May 07, 2025  \n",
    "\n",
    "This notebook contains code completing the week ten instructor led lab. "
   ]
  },
  {
   "cell_type": "markdown",
   "metadata": {},
   "source": [
    "#### Imports and Setting Directory"
   ]
  },
  {
   "cell_type": "code",
   "execution_count": 10,
   "metadata": {},
   "outputs": [],
   "source": [
    "import os\n",
    "import numpy as np\n",
    "import pandas as pd\n",
    "import matplotlib.pyplot as plt\n",
    "\n",
    "from sklearn.model_selection import train_test_split\n",
    "\n",
    "# for pca\n",
    "from sklearn import preprocessing\n",
    "from sklearn.decomposition import PCA as pca\n",
    "\n",
    "# for factor analysis\n",
    "from factor_analyzer import FactorAnalyzer\n",
    "from factor_analyzer.factor_analyzer import calculate_bartlett_sphericity\n",
    "from factor_analyzer.factor_analyzer import calculate_kmo\n",
    "\n",
    "# for k-means clustering \n",
    "import sklearn.metrics as metcs\n",
    "from scipy.cluster import hierarchy as hier\n",
    "from sklearn import cluster as cls\n",
    "from sklearn.cluster import KMeans\n",
    "\n",
    "# for decision tree \n",
    "from sklearn.feature_extraction.image import grid_to_graph\n",
    "from sklearn import tree\n",
    "\n",
    "# modules for plotting trees\n",
    "from sklearn.tree import export_graphviz\n",
    "import graphviz\n",
    "from IPython.display import display"
   ]
  },
  {
   "cell_type": "code",
   "execution_count": 2,
   "metadata": {},
   "outputs": [
    {
     "data": {
      "text/plain": [
       "'/Users/bradywoods/Desktop/week10labs-1/data'"
      ]
     },
     "execution_count": 2,
     "metadata": {},
     "output_type": "execute_result"
    }
   ],
   "source": [
    "os.chdir(\"/Users/bradywoods/Desktop/week10labs-1/data\")\n",
    "os.getcwd() "
   ]
  },
  {
   "cell_type": "code",
   "execution_count": 5,
   "metadata": {},
   "outputs": [
    {
     "data": {
      "text/html": [
       "<div>\n",
       "<style scoped>\n",
       "    .dataframe tbody tr th:only-of-type {\n",
       "        vertical-align: middle;\n",
       "    }\n",
       "\n",
       "    .dataframe tbody tr th {\n",
       "        vertical-align: top;\n",
       "    }\n",
       "\n",
       "    .dataframe thead th {\n",
       "        text-align: right;\n",
       "    }\n",
       "</style>\n",
       "<table border=\"1\" class=\"dataframe\">\n",
       "  <thead>\n",
       "    <tr style=\"text-align: right;\">\n",
       "      <th></th>\n",
       "      <th>HospitalID</th>\n",
       "      <th>Name</th>\n",
       "      <th>Zip</th>\n",
       "      <th>Website</th>\n",
       "      <th>TypeControl</th>\n",
       "      <th>Teaching</th>\n",
       "      <th>DonorType</th>\n",
       "      <th>NoFTE</th>\n",
       "      <th>NetPatRev</th>\n",
       "      <th>InOperExp</th>\n",
       "      <th>...</th>\n",
       "      <th>AvlBeds</th>\n",
       "      <th>Work_ID</th>\n",
       "      <th>LastName</th>\n",
       "      <th>FirstName</th>\n",
       "      <th>Gender</th>\n",
       "      <th>PositionID</th>\n",
       "      <th>PositionTitle</th>\n",
       "      <th>Compensation</th>\n",
       "      <th>MaxTerm</th>\n",
       "      <th>StartDate</th>\n",
       "    </tr>\n",
       "  </thead>\n",
       "  <tbody>\n",
       "    <tr>\n",
       "      <th>0</th>\n",
       "      <td>45740</td>\n",
       "      <td>Mammoth Hospital</td>\n",
       "      <td>93546-0660</td>\n",
       "      <td>www.mammothhospital.com</td>\n",
       "      <td>District</td>\n",
       "      <td>Small/Rural</td>\n",
       "      <td>Charity</td>\n",
       "      <td>327.0</td>\n",
       "      <td>135520.2186</td>\n",
       "      <td>20523425.53</td>\n",
       "      <td>...</td>\n",
       "      <td>15</td>\n",
       "      <td>721586</td>\n",
       "      <td>Web</td>\n",
       "      <td>David</td>\n",
       "      <td>M</td>\n",
       "      <td>4</td>\n",
       "      <td>Safety Inspection Member</td>\n",
       "      <td>23987</td>\n",
       "      <td>2</td>\n",
       "      <td>1/1/2012</td>\n",
       "    </tr>\n",
       "    <tr>\n",
       "      <th>1</th>\n",
       "      <td>12145</td>\n",
       "      <td>Victor Valley Community Hospital</td>\n",
       "      <td>92392</td>\n",
       "      <td>www.vvch.org</td>\n",
       "      <td>Non Profit</td>\n",
       "      <td>Small/Rural</td>\n",
       "      <td>Charity</td>\n",
       "      <td>345.0</td>\n",
       "      <td>136156.6913</td>\n",
       "      <td>33447542.78</td>\n",
       "      <td>...</td>\n",
       "      <td>99</td>\n",
       "      <td>756481</td>\n",
       "      <td>Rodriguez</td>\n",
       "      <td>Jose</td>\n",
       "      <td>M</td>\n",
       "      <td>1</td>\n",
       "      <td>Regional Representative</td>\n",
       "      <td>46978</td>\n",
       "      <td>4</td>\n",
       "      <td>1/1/2009</td>\n",
       "    </tr>\n",
       "    <tr>\n",
       "      <th>2</th>\n",
       "      <td>25667</td>\n",
       "      <td>Pioneers Memorial Hospital</td>\n",
       "      <td>92227</td>\n",
       "      <td>www.pmhd.org</td>\n",
       "      <td>District</td>\n",
       "      <td>Small/Rural</td>\n",
       "      <td>Charity</td>\n",
       "      <td>601.2</td>\n",
       "      <td>197094.2541</td>\n",
       "      <td>37254178.67</td>\n",
       "      <td>...</td>\n",
       "      <td>107</td>\n",
       "      <td>926378</td>\n",
       "      <td>Adamson</td>\n",
       "      <td>David</td>\n",
       "      <td>M</td>\n",
       "      <td>1</td>\n",
       "      <td>Regional Representative</td>\n",
       "      <td>46978</td>\n",
       "      <td>4</td>\n",
       "      <td>1/1/2012</td>\n",
       "    </tr>\n",
       "    <tr>\n",
       "      <th>3</th>\n",
       "      <td>46996</td>\n",
       "      <td>Ridgecrest Regional Hospital</td>\n",
       "      <td>93555</td>\n",
       "      <td>www.rrh.org</td>\n",
       "      <td>Non Profit</td>\n",
       "      <td>Small/Rural</td>\n",
       "      <td>Charity</td>\n",
       "      <td>400.0</td>\n",
       "      <td>139170.3798</td>\n",
       "      <td>23385570.10</td>\n",
       "      <td>...</td>\n",
       "      <td>55</td>\n",
       "      <td>856720</td>\n",
       "      <td>Roberts</td>\n",
       "      <td>Melissa</td>\n",
       "      <td>F</td>\n",
       "      <td>4</td>\n",
       "      <td>Safety Inspection Member</td>\n",
       "      <td>23987</td>\n",
       "      <td>2</td>\n",
       "      <td>1/1/2009</td>\n",
       "    </tr>\n",
       "    <tr>\n",
       "      <th>4</th>\n",
       "      <td>37393</td>\n",
       "      <td>Barstow Community Hospital</td>\n",
       "      <td>92311</td>\n",
       "      <td>www.barstowhospital.com</td>\n",
       "      <td>Investor</td>\n",
       "      <td>Small/Rural</td>\n",
       "      <td>Charity</td>\n",
       "      <td>262.0</td>\n",
       "      <td>116797.8306</td>\n",
       "      <td>13684502.49</td>\n",
       "      <td>...</td>\n",
       "      <td>42</td>\n",
       "      <td>909709</td>\n",
       "      <td>Iwata</td>\n",
       "      <td>Akira</td>\n",
       "      <td>M</td>\n",
       "      <td>1</td>\n",
       "      <td>Regional Representative</td>\n",
       "      <td>46978</td>\n",
       "      <td>4</td>\n",
       "      <td>1/1/2011</td>\n",
       "    </tr>\n",
       "  </tbody>\n",
       "</table>\n",
       "<p>5 rows × 23 columns</p>\n",
       "</div>"
      ],
      "text/plain": [
       "   HospitalID                              Name         Zip  \\\n",
       "0       45740                  Mammoth Hospital  93546-0660   \n",
       "1       12145  Victor Valley Community Hospital       92392   \n",
       "2       25667        Pioneers Memorial Hospital       92227   \n",
       "3       46996      Ridgecrest Regional Hospital       93555   \n",
       "4       37393        Barstow Community Hospital       92311   \n",
       "\n",
       "                   Website TypeControl     Teaching DonorType  NoFTE  \\\n",
       "0  www.mammothhospital.com    District  Small/Rural   Charity  327.0   \n",
       "1             www.vvch.org  Non Profit  Small/Rural   Charity  345.0   \n",
       "2             www.pmhd.org    District  Small/Rural   Charity  601.2   \n",
       "3              www.rrh.org  Non Profit  Small/Rural   Charity  400.0   \n",
       "4  www.barstowhospital.com    Investor  Small/Rural   Charity  262.0   \n",
       "\n",
       "     NetPatRev    InOperExp  ...  AvlBeds  Work_ID   LastName  FirstName  \\\n",
       "0  135520.2186  20523425.53  ...       15   721586        Web      David   \n",
       "1  136156.6913  33447542.78  ...       99   756481  Rodriguez       Jose   \n",
       "2  197094.2541  37254178.67  ...      107   926378    Adamson      David   \n",
       "3  139170.3798  23385570.10  ...       55   856720    Roberts    Melissa   \n",
       "4  116797.8306  13684502.49  ...       42   909709      Iwata      Akira   \n",
       "\n",
       "   Gender PositionID             PositionTitle Compensation  MaxTerm StartDate  \n",
       "0       M          4  Safety Inspection Member        23987        2  1/1/2012  \n",
       "1       M          1   Regional Representative        46978        4  1/1/2009  \n",
       "2       M          1   Regional Representative        46978        4  1/1/2012  \n",
       "3       F          4  Safety Inspection Member        23987        2  1/1/2009  \n",
       "4       M          1   Regional Representative        46978        4  1/1/2011  \n",
       "\n",
       "[5 rows x 23 columns]"
      ]
     },
     "execution_count": 5,
     "metadata": {},
     "output_type": "execute_result"
    }
   ],
   "source": [
    "cali_df = pd.read_csv(\"calihospital.txt\", sep= \"\\t\")\n",
    "cali_df.head()"
   ]
  },
  {
   "cell_type": "markdown",
   "metadata": {},
   "source": [
    "#### PCA Analysis"
   ]
  },
  {
   "cell_type": "code",
   "execution_count": 6,
   "metadata": {},
   "outputs": [],
   "source": [
    "hospital_cols = ['NetPatRev', 'InOperExp', 'OutOperExp', 'OperRev', 'OperInc', 'NoFTE', 'AvlBeds']\n",
    "hospital_df = cali_df[hospital_cols].dropna()\n",
    "\n",
    "# Standardize\n",
    "scaler = preprocessing.StandardScaler()\n",
    "scaled_data = scaler.fit_transform(hospital_df)\n"
   ]
  },
  {
   "cell_type": "code",
   "execution_count": 8,
   "metadata": {},
   "outputs": [
    {
     "name": "stdout",
     "output_type": "stream",
     "text": [
      "[5.72134563e+00 1.07657967e+00 1.91383827e-01 9.31699632e-02\n",
      " 3.29143500e-02 1.27322677e-03 5.91423177e-22]\n"
     ]
    }
   ],
   "source": [
    "pca = pca()\n",
    "pca.fit(scaled_data)\n",
    "\n",
    "eigenvalues = pca.explained_variance_\n",
    "print(eigenvalues)"
   ]
  },
  {
   "cell_type": "code",
   "execution_count": 9,
   "metadata": {},
   "outputs": [
    {
     "data": {
      "image/png": "[encoded data removed]",
      "text/plain": [
       "<Figure size 800x500 with 1 Axes>"
      ]
     },
     "metadata": {},
     "output_type": "display_data"
    }
   ],
   "source": [
    "plt.figure(figsize=(8,5))\n",
    "plt.plot(range(1, len(eigenvalues)+1), eigenvalues, marker='o')\n",
    "plt.title('Scree Plot')\n",
    "plt.xlabel('Principal Component')\n",
    "plt.ylabel('Eigenvalue')\n",
    "plt.grid(True)\n",
    "plt.show()"
   ]
  },
  {
   "cell_type": "markdown",
   "metadata": {},
   "source": [
    "#### Commentary\n",
    "Based on the eigenvalues for each component, I would keep just the first two. They both have an eigenvalue above one, and they fall on the left side of the \"Elbow\" pattern that typically determines a good cutoff here. Just having these first two components will capture roughly the same variance compared with using all seven."
   ]
  },
  {
   "cell_type": "markdown",
   "metadata": {},
   "source": [
    "#### K-Means Clustering\n",
    "I originally chose k=3 as an arbitrary start. I will re-evaluate this amountof clusters after conducting the analysis."
   ]
  },
  {
   "cell_type": "code",
   "execution_count": 11,
   "metadata": {},
   "outputs": [],
   "source": [
    "k = 3\n",
    "kmeans = KMeans(n_clusters=k, n_init=10, random_state=42)\n",
    "clusters = kmeans.fit_predict(scaled_data)\n",
    "\n",
    "hospital_df['Cluster'] = clusters"
   ]
  },
  {
   "cell_type": "code",
   "execution_count": 12,
   "metadata": {},
   "outputs": [
    {
     "name": "stdout",
     "output_type": "stream",
     "text": [
      "Teaching vs Cluster\n",
      "Cluster      0   1  2\n",
      "Teaching             \n",
      "Small/Rural  0  44  0\n",
      "Teaching     9   2  6 \n",
      "\n",
      "TypeControl vs Cluster\n",
      "Cluster      0   1  2\n",
      "TypeControl          \n",
      "City/County  5   2  0\n",
      "District     0  14  0\n",
      "Investor     0   3  0\n",
      "Non Profit   4  27  6 \n",
      "\n",
      "DonorType vs Cluster\n",
      "Cluster    0   1  2\n",
      "DonorType          \n",
      "Alumni     9   2  6\n",
      "Charity    0  44  0 \n",
      "\n"
     ]
    }
   ],
   "source": [
    "hospital_df['Teaching'] = cali_df.loc[hospital_df.index, 'Teaching']\n",
    "hospital_df['TypeControl'] = cali_df.loc[hospital_df.index, 'TypeControl']\n",
    "hospital_df['DonorType'] = cali_df.loc[hospital_df.index, 'DonorType']\n",
    "\n",
    "print(\"Teaching vs Cluster\")\n",
    "print(pd.crosstab(hospital_df['Teaching'], hospital_df['Cluster']), \"\\n\")\n",
    "\n",
    "print(\"TypeControl vs Cluster\")\n",
    "print(pd.crosstab(hospital_df['TypeControl'], hospital_df['Cluster']), \"\\n\")\n",
    "\n",
    "print(\"DonorType vs Cluster\")\n",
    "print(pd.crosstab(hospital_df['DonorType'], hospital_df['Cluster']), \"\\n\")"
   ]
  },
  {
   "cell_type": "markdown",
   "metadata": {},
   "source": [
    "I think k=3 does a decent job of clustering here. Since one cluster seems to dominate the other two, I am going to try k=2 and see if we get a better story. "
   ]
  },
  {
   "cell_type": "code",
   "execution_count": 13,
   "metadata": {},
   "outputs": [],
   "source": [
    "k = 2\n",
    "kmeans = KMeans(n_clusters=k, n_init=10, random_state=42)\n",
    "clusters = kmeans.fit_predict(scaled_data)\n",
    "hospital_df['Cluster'] = clusters"
   ]
  },
  {
   "cell_type": "code",
   "execution_count": 14,
   "metadata": {},
   "outputs": [
    {
     "name": "stdout",
     "output_type": "stream",
     "text": [
      "Teaching vs Cluster\n",
      "Cluster       0  1\n",
      "Teaching          \n",
      "Small/Rural  44  0\n",
      "Teaching      8  9 \n",
      "\n",
      "TypeControl vs Cluster\n",
      "Cluster       0  1\n",
      "TypeControl       \n",
      "City/County   5  2\n",
      "District     14  0\n",
      "Investor      3  0\n",
      "Non Profit   30  7 \n",
      "\n",
      "DonorType vs Cluster\n",
      "Cluster     0  1\n",
      "DonorType       \n",
      "Alumni      8  9\n",
      "Charity    44  0 \n",
      "\n"
     ]
    }
   ],
   "source": [
    "hospital_df['Teaching'] = cali_df.loc[hospital_df.index, 'Teaching']\n",
    "hospital_df['TypeControl'] = cali_df.loc[hospital_df.index, 'TypeControl']\n",
    "hospital_df['DonorType'] = cali_df.loc[hospital_df.index, 'DonorType']\n",
    "\n",
    "print(\"Teaching vs Cluster\")\n",
    "print(pd.crosstab(hospital_df['Teaching'], hospital_df['Cluster']), \"\\n\")\n",
    "\n",
    "print(\"TypeControl vs Cluster\")\n",
    "print(pd.crosstab(hospital_df['TypeControl'], hospital_df['Cluster']), \"\\n\")\n",
    "\n",
    "print(\"DonorType vs Cluster\")\n",
    "print(pd.crosstab(hospital_df['DonorType'], hospital_df['Cluster']), \"\\n\")"
   ]
  },
  {
   "cell_type": "markdown",
   "metadata": {},
   "source": [
    "In my opinion, doing two clusters tells a better story of what is going on with this data. Instead of one cluster carrying most of the weight and the other datapoints being split into two random clusters, we get the same dominating cluster and then a cluster that captures the other observations."
   ]
  }
 ],
 "metadata": {
  "kernelspec": {
   "display_name": "base",
   "language": "python",
   "name": "python3"
  },
  "language_info": {
   "codemirror_mode": {
    "name": "ipython",
    "version": 3
   },
   "file_extension": ".py",
   "mimetype": "text/x-python",
   "name": "python",
   "nbconvert_exporter": "python",
   "pygments_lexer": "ipython3",
   "version": "3.12.4"
  }
 },
 "nbformat": 4,
 "nbformat_minor": 2
}
